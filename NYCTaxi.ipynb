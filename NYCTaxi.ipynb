{
  "cells": [
    {
      "cell_type": "raw",
      "metadata": {},
      "source": [
        "---\n",
        "title: \"NYCTaxi\"\n",
        "author: \"권진원\"\n",
        "format: dashboard\n",
        "execute:\n",
        "  enabled: true\n",
        "  cache: false\n",
        "  freeze: false\n",
        "---"
      ],
      "id": "9160a4f7"
    },
    {
      "cell_type": "code",
      "metadata": {},
      "source": [
        "# | output: false\n",
        "\n",
        "import numpy as np\n",
        "import pandas as pd\n",
        "import plotly.express as px\n",
        "import plotly.io as pio\n",
        "import json\n",
        "import requests\n",
        "import pickle\n",
        "\n",
        "pd.options.plotting.backend = \"plotly\"\n",
        "pio.templates.default = \"plotly_white\"\n",
        "\n",
        "df = pd.read_csv(\"https://raw.githubusercontent.com/guebin/DV2023/main/posts/NYCTaxi.csv\").assign(\n",
        "    log_trip_duration = lambda df: np.log(df.trip_duration),\n",
        "    pickup_datetime = lambda df: df.pickup_datetime.apply(pd.to_datetime),\n",
        "    dropoff_datetime = lambda df: df.dropoff_datetime.apply(pd.to_datetime),\n",
        "    dist = lambda df: np.sqrt((df.pickup_latitude-df.dropoff_latitude)**2 + (df.pickup_longitude-df.dropoff_longitude)**2),\n",
        "    #---#\n",
        "    vendor_id = lambda df: df.vendor_id.map({1:'A',2:'B'})\n",
        ").assign(\n",
        "    speed = lambda df: df.dist / df.trip_duration,\n",
        "    pickup_hour = lambda df: df.pickup_datetime.dt.hour,\n",
        "    dropoff_hour = lambda df: df.dropoff_datetime.dt.hour,\n",
        "    dayofweek = lambda df: df.pickup_datetime.dt.dayofweek\n",
        ")\n",
        "df_small = df[::100].reset_index(drop=True)\n",
        "\n",
        "day_mapping = {0: '월', 1: '화', 2: '수', 3: '목', 4: '금', 5: '토', 6: '일'}\n",
        "\n",
        "df['요일'] = df['dayofweek'].map(day_mapping)\n",
        "df.rename(columns={'pickup_hour': 'pickup_시간'}, inplace=True)\n",
        "\n",
        "\n",
        "tidydata1 = df.pivot_table(\n",
        "    index = 'pickup_시간',\n",
        "    columns = '요일',\n",
        "    values = 'speed',\n",
        "    aggfunc = 'mean'\n",
        ").stack().reset_index().rename({0:'평균속력'},axis=1)\n",
        "\n",
        "tidydata2 = df.pivot_table(\n",
        "    index = 'pickup_시간',\n",
        "    columns = '요일',\n",
        "    values = 'dist',\n",
        "    aggfunc = 'mean'\n",
        ").stack().reset_index().rename({0:'평균이동거리'},axis=1)\n",
        "\n",
        "tidydata3 = df_small.assign(\n",
        "    speed_cut = pd.qcut(df_small.speed,4)\n",
        ").sort_values('speed_cut')\n",
        "\n",
        "# 1-(1),(2),(3) 에 대응하는 plotly figure를 아래와 같은 이름으로 저장\n",
        "\n",
        "# fig1 = px.density_heatmap(\n",
        "    data_frame=tidydata1,\n",
        "    x='pickup_시간',\n",
        "    y='요일',\n",
        "    z='평균속력',\n",
        "    nbinsx=24,\n",
        "    nbinsy=7,\n",
        "    height=300\n",
        ")\n",
        "# fig2 = px.density_heatmap(\n",
        "    data_frame=tidydata2,\n",
        "    x='pickup_시간',\n",
        "    y='요일',\n",
        "    z='평균이동거리',\n",
        "    nbinsx=24,\n",
        "    nbinsy=7,\n",
        "    height=300\n",
        ")\n",
        "# fig3 = px.line_mapbox(\n",
        "    data_frame=tidydata3,\n",
        "    lat = 'pickup_latitude',\n",
        "    lon = 'pickup_longitude',\n",
        "    line_group = 'id',\n",
        "    color = 'speed_cut',\n",
        "    center = {'lat':40.7322, 'lon':-73.9052},\n",
        "    #---#\n",
        "    mapbox_style = 'carto-positron',\n",
        "    zoom=11\n",
        ")\n",
        "scatter_data = px.scatter_mapbox(\n",
        "    data_frame=tidydata3,\n",
        "    lat = 'pickup_latitude',\n",
        "    lon = 'pickup_longitude',\n",
        "    size = 'passenger_count',\n",
        "    size_max = 10,\n",
        "    color = 'speed_cut',\n",
        "    #---#\n",
        "    mapbox_style = 'carto-positron',\n",
        "    zoom=11   \n",
        ").data \n",
        "for sd in scatter_data: \n",
        "    fig3.add_trace(sd)\n",
        "fig3 = fig3.update_traces(\n",
        "    line={\n",
        "        'width':1\n",
        "    },\n",
        "    opacity=0.8\n",
        ")"
      ],
      "id": "28d9ba3f",
      "execution_count": null,
      "outputs": []
    },
    {
      "cell_type": "markdown",
      "metadata": {},
      "source": [
        "# 기말고사1-(1),(2)\n",
        "\n",
        "## Column {width=50%}\n"
      ],
      "id": "16272703"
    },
    {
      "cell_type": "code",
      "metadata": {
        "title": "요일,시간에 따른 평균속력 시각화"
      },
      "source": [
        "fig1.show()"
      ],
      "id": "c0424cfc",
      "execution_count": null,
      "outputs": []
    },
    {
      "cell_type": "code",
      "metadata": {
        "title": "요일,시간에 따른 평균이동거리 시각화"
      },
      "source": [
        "fig2.show()"
      ],
      "id": "f4e6a7da",
      "execution_count": null,
      "outputs": []
    },
    {
      "cell_type": "markdown",
      "metadata": {},
      "source": [
        "# 기말고사1-(3)\n",
        "\n",
        "## Column {width=50%}\n"
      ],
      "id": "52b31fbf"
    },
    {
      "cell_type": "code",
      "metadata": {
        "title": "속력별 경로 시각화"
      },
      "source": [
        "fig3.show()"
      ],
      "id": "a08c4738",
      "execution_count": null,
      "outputs": []
    }
  ],
  "metadata": {
    "kernelspec": {
      "name": "python3",
      "language": "python",
      "display_name": "Python 3 (ipykernel)"
    }
  },
  "nbformat": 4,
  "nbformat_minor": 5
}